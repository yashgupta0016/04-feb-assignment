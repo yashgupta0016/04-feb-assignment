{
 "cells": [
  {
   "cell_type": "code",
   "execution_count": 102,
   "id": "e29da570",
   "metadata": {},
   "outputs": [
    {
     "data": {
      "text/plain": [
       "[('Virat Kohli', 24936),\n",
       " ('Jack Kallis', 25534),\n",
       " ('Ricky Ponting', 27483),\n",
       " ('Sachin Tendulkar', 34357)]"
      ]
     },
     "execution_count": 102,
     "metadata": {},
     "output_type": "execute_result"
    }
   ],
   "source": [
    "#Q1. Create a python program to sort the given list of tuples based on integer value using a lambda function.\n",
    "\n",
    "z = [('Sachin Tendulkar', 34357), ('Ricky Ponting', 27483), ('Jack Kallis', 25534), ('Virat Kohli', 24936)]\n",
    "z.sort(key = lambda i:i[1])\n",
    "z\n"
   ]
  },
  {
   "cell_type": "code",
   "execution_count": 101,
   "id": "4d46ee9d",
   "metadata": {},
   "outputs": [
    {
     "data": {
      "text/plain": [
       "[1, 4, 9, 16, 25, 36, 49, 64, 81, 100]"
      ]
     },
     "execution_count": 101,
     "metadata": {},
     "output_type": "execute_result"
    }
   ],
   "source": [
    "# Q2. Write a Python Program to find the squares of all the numbers in the given list of integers using lambda and map functions.\n",
    "\n",
    "z = [1, 2, 3, 4, 5, 6, 7, 8, 9, 10]\n",
    "list(map(lambda i: i**2 ,z))"
   ]
  },
  {
   "cell_type": "code",
   "execution_count": 21,
   "id": "8d7ca361",
   "metadata": {},
   "outputs": [
    {
     "data": {
      "text/plain": [
       "('1', '2', '3', '4', '5', '6', '7', '8', '9', '10')"
      ]
     },
     "execution_count": 21,
     "metadata": {},
     "output_type": "execute_result"
    }
   ],
   "source": [
    "# Q3. Write a python program to convert the given list of integers into a tuple of strings. Use map and lambda functions\n",
    "\n",
    "z = [1, 2, 3, 4, 5, 6, 7, 8, 9, 10]\n",
    "tuple(map(lambda i: str(i),z))"
   ]
  },
  {
   "cell_type": "code",
   "execution_count": 49,
   "id": "fc058f55",
   "metadata": {},
   "outputs": [
    {
     "data": {
      "text/plain": [
       "15511210043330985984000000"
      ]
     },
     "execution_count": 49,
     "metadata": {},
     "output_type": "execute_result"
    }
   ],
   "source": [
    "# Q4. Write a python program using reduce function to compute the product of a list containing numbers from 1 to 25.\n",
    "from functools import reduce\n",
    "reduce(lambda x,y: x*y,range(1,26))"
   ]
  },
  {
   "cell_type": "code",
   "execution_count": 62,
   "id": "9095d331",
   "metadata": {},
   "outputs": [
    {
     "data": {
      "text/plain": [
       "[6, 60, 90, 120]"
      ]
     },
     "execution_count": 62,
     "metadata": {},
     "output_type": "execute_result"
    }
   ],
   "source": [
    "# Q5. Write a python program to filter the numbers in a given list that are divisible by 2 and 3 using the filter function.\n",
    "\n",
    "z = [2, 3, 6, 9, 27, 60, 90, 120, 55, 46]\n",
    "list(filter(lambda i:i if (i%2 == 0 and i%3 == 0) else None,z))"
   ]
  },
  {
   "cell_type": "code",
   "execution_count": 91,
   "id": "61473fc8",
   "metadata": {},
   "outputs": [
    {
     "data": {
      "text/plain": [
       "['php', 'aba', 'radar', 'level']"
      ]
     },
     "execution_count": 91,
     "metadata": {},
     "output_type": "execute_result"
    }
   ],
   "source": [
    "#Q6. Write a python program to find palindromes in the given list of strings using lambda and filter function.\n",
    "\n",
    "z = ['python', 'php', 'aba', 'radar', 'level']\n",
    "list(filter(lambda i:i if list(reversed(i))== list(i) else None, z))\n"
   ]
  },
  {
   "cell_type": "code",
   "execution_count": 92,
   "id": "6f35294e",
   "metadata": {},
   "outputs": [],
   "source": [
    "l = [23,45,776,334,12,0]\n",
    "l.sort()\n"
   ]
  },
  {
   "cell_type": "code",
   "execution_count": 93,
   "id": "2eff756f",
   "metadata": {},
   "outputs": [
    {
     "data": {
      "text/plain": [
       "[0, 12, 23, 45, 334, 776]"
      ]
     },
     "execution_count": 93,
     "metadata": {},
     "output_type": "execute_result"
    }
   ],
   "source": [
    "l"
   ]
  },
  {
   "cell_type": "code",
   "execution_count": null,
   "id": "450c74cb",
   "metadata": {},
   "outputs": [],
   "source": []
  }
 ],
 "metadata": {
  "kernelspec": {
   "display_name": "Python 3 (ipykernel)",
   "language": "python",
   "name": "python3"
  },
  "language_info": {
   "codemirror_mode": {
    "name": "ipython",
    "version": 3
   },
   "file_extension": ".py",
   "mimetype": "text/x-python",
   "name": "python",
   "nbconvert_exporter": "python",
   "pygments_lexer": "ipython3",
   "version": "3.9.13"
  }
 },
 "nbformat": 4,
 "nbformat_minor": 5
}
